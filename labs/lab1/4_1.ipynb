{
 "cells": [
  {
   "attachments": {},
   "cell_type": "markdown",
   "metadata": {},
   "source": [
    "## Задача 4.1\n",
    "Рассмотрим данные из [табллицы](data/corona.csv) по числу заболевших и выздоровевших от короновируса\n",
    "в разных странах. Требуется проверить гипотезу о тому, что число выздоровевших\n",
    "людей в странах не зависит от числа заболевших в стране. \n",
    "\n",
    "**Требуется:**\n",
    "1. записать задачу формально;\n",
    "2. предложить статистику для решения данной задачи;\n",
    "3. записать приближенно нулевое распределение данной статистики;\n",
    "4. записать явно правило принятия решения на основе статистики и нулевого распределения для обеспечения уровня значимости alpha = 0.05;\n",
    "5. проверить гипотезу по записанному критерию, для данных из условия. Противоречат ли они гипотезу?\n",
    "6. на уровне значимости alpha = 0.05 найти зависимость мощности критерия в зависимости от истинного значения статистики.\n",
    "\n",
    "Все выкладки должны быть сделаны аналитически, без использования компьютера. (допускается использование компютера для подстановвки численых значений в финальную формулу)"
   ]
  },
  {
   "cell_type": "code",
   "execution_count": 1,
   "metadata": {},
   "outputs": [
    {
     "data": {
      "text/html": [
       "<div>\n",
       "<style scoped>\n",
       "    .dataframe tbody tr th:only-of-type {\n",
       "        vertical-align: middle;\n",
       "    }\n",
       "\n",
       "    .dataframe tbody tr th {\n",
       "        vertical-align: top;\n",
       "    }\n",
       "\n",
       "    .dataframe thead th {\n",
       "        text-align: right;\n",
       "    }\n",
       "</style>\n",
       "<table border=\"1\" class=\"dataframe\">\n",
       "  <thead>\n",
       "    <tr style=\"text-align: right;\">\n",
       "      <th></th>\n",
       "      <th>Страна</th>\n",
       "      <th>заболевшие</th>\n",
       "      <th>выздоровевшие</th>\n",
       "    </tr>\n",
       "  </thead>\n",
       "  <tbody>\n",
       "    <tr>\n",
       "      <th>0</th>\n",
       "      <td>германия</td>\n",
       "      <td>2078</td>\n",
       "      <td>25</td>\n",
       "    </tr>\n",
       "    <tr>\n",
       "      <th>1</th>\n",
       "      <td>дания</td>\n",
       "      <td>617</td>\n",
       "      <td>1</td>\n",
       "    </tr>\n",
       "    <tr>\n",
       "      <th>2</th>\n",
       "      <td>малайзия</td>\n",
       "      <td>149</td>\n",
       "      <td>26</td>\n",
       "    </tr>\n",
       "    <tr>\n",
       "      <th>3</th>\n",
       "      <td>австрия</td>\n",
       "      <td>302</td>\n",
       "      <td>4</td>\n",
       "    </tr>\n",
       "    <tr>\n",
       "      <th>4</th>\n",
       "      <td>ирак</td>\n",
       "      <td>71</td>\n",
       "      <td>15</td>\n",
       "    </tr>\n",
       "    <tr>\n",
       "      <th>5</th>\n",
       "      <td>китай</td>\n",
       "      <td>80932</td>\n",
       "      <td>62901</td>\n",
       "    </tr>\n",
       "    <tr>\n",
       "      <th>6</th>\n",
       "      <td>италия</td>\n",
       "      <td>12462</td>\n",
       "      <td>1045</td>\n",
       "    </tr>\n",
       "    <tr>\n",
       "      <th>7</th>\n",
       "      <td>сша</td>\n",
       "      <td>1663</td>\n",
       "      <td>12</td>\n",
       "    </tr>\n",
       "    <tr>\n",
       "      <th>8</th>\n",
       "      <td>сингапур</td>\n",
       "      <td>178</td>\n",
       "      <td>96</td>\n",
       "    </tr>\n",
       "    <tr>\n",
       "      <th>9</th>\n",
       "      <td>австралия</td>\n",
       "      <td>128</td>\n",
       "      <td>21</td>\n",
       "    </tr>\n",
       "    <tr>\n",
       "      <th>10</th>\n",
       "      <td>великобритания</td>\n",
       "      <td>459</td>\n",
       "      <td>19</td>\n",
       "    </tr>\n",
       "    <tr>\n",
       "      <th>11</th>\n",
       "      <td>бахрейн</td>\n",
       "      <td>195</td>\n",
       "      <td>35</td>\n",
       "    </tr>\n",
       "    <tr>\n",
       "      <th>12</th>\n",
       "      <td>норвегия</td>\n",
       "      <td>702</td>\n",
       "      <td>1</td>\n",
       "    </tr>\n",
       "    <tr>\n",
       "      <th>13</th>\n",
       "      <td>корея</td>\n",
       "      <td>7869</td>\n",
       "      <td>333</td>\n",
       "    </tr>\n",
       "    <tr>\n",
       "      <th>14</th>\n",
       "      <td>франция</td>\n",
       "      <td>2284</td>\n",
       "      <td>12</td>\n",
       "    </tr>\n",
       "    <tr>\n",
       "      <th>15</th>\n",
       "      <td>кувейт</td>\n",
       "      <td>80</td>\n",
       "      <td>5</td>\n",
       "    </tr>\n",
       "    <tr>\n",
       "      <th>16</th>\n",
       "      <td>индия</td>\n",
       "      <td>73</td>\n",
       "      <td>4</td>\n",
       "    </tr>\n",
       "    <tr>\n",
       "      <th>17</th>\n",
       "      <td>таиланд</td>\n",
       "      <td>70</td>\n",
       "      <td>34</td>\n",
       "    </tr>\n",
       "    <tr>\n",
       "      <th>18</th>\n",
       "      <td>египет</td>\n",
       "      <td>67</td>\n",
       "      <td>27</td>\n",
       "    </tr>\n",
       "    <tr>\n",
       "      <th>19</th>\n",
       "      <td>швейцария</td>\n",
       "      <td>652</td>\n",
       "      <td>4</td>\n",
       "    </tr>\n",
       "    <tr>\n",
       "      <th>20</th>\n",
       "      <td>япония</td>\n",
       "      <td>639</td>\n",
       "      <td>118</td>\n",
       "    </tr>\n",
       "    <tr>\n",
       "      <th>21</th>\n",
       "      <td>израиль</td>\n",
       "      <td>131</td>\n",
       "      <td>4</td>\n",
       "    </tr>\n",
       "    <tr>\n",
       "      <th>22</th>\n",
       "      <td>канада</td>\n",
       "      <td>117</td>\n",
       "      <td>8</td>\n",
       "    </tr>\n",
       "    <tr>\n",
       "      <th>23</th>\n",
       "      <td>оаэ</td>\n",
       "      <td>85</td>\n",
       "      <td>17</td>\n",
       "    </tr>\n",
       "    <tr>\n",
       "      <th>24</th>\n",
       "      <td>иран</td>\n",
       "      <td>10075</td>\n",
       "      <td>2959</td>\n",
       "    </tr>\n",
       "    <tr>\n",
       "      <th>25</th>\n",
       "      <td>испания</td>\n",
       "      <td>2277</td>\n",
       "      <td>183</td>\n",
       "    </tr>\n",
       "  </tbody>\n",
       "</table>\n",
       "</div>"
      ],
      "text/plain": [
       "            Страна  заболевшие  выздоровевшие\n",
       "0         германия        2078             25\n",
       "1            дания         617              1\n",
       "2         малайзия         149             26\n",
       "3          австрия         302              4\n",
       "4             ирак          71             15\n",
       "5            китай       80932          62901\n",
       "6           италия       12462           1045\n",
       "7              сша        1663             12\n",
       "8         сингапур         178             96\n",
       "9        австралия         128             21\n",
       "10  великобритания         459             19\n",
       "11         бахрейн         195             35\n",
       "12        норвегия         702              1\n",
       "13           корея        7869            333\n",
       "14         франция        2284             12\n",
       "15          кувейт          80              5\n",
       "16           индия          73              4\n",
       "17         таиланд          70             34\n",
       "18          египет          67             27\n",
       "19       швейцария         652              4\n",
       "20          япония         639            118\n",
       "21         израиль         131              4\n",
       "22          канада         117              8\n",
       "23             оаэ          85             17\n",
       "24            иран       10075           2959\n",
       "25         испания        2277            183"
      ]
     },
     "execution_count": 1,
     "metadata": {},
     "output_type": "execute_result"
    }
   ],
   "source": [
    "import numpy as np\n",
    "import pandas as pd\n",
    "import matplotlib.pyplot as plt\n",
    "df = pd.read_csv(\"data/corona.csv\")\n",
    "df"
   ]
  },
  {
   "cell_type": "code",
   "execution_count": 6,
   "metadata": {},
   "outputs": [],
   "source": [
    "X = df.drop('Страна', axis=1)"
   ]
  },
  {
   "cell_type": "code",
   "execution_count": 2,
   "metadata": {},
   "outputs": [
    {
     "data": {
      "image/png": "[encoded data removed]",
      "text/plain": [
       "<Figure size 640x480 with 1 Axes>"
      ]
     },
     "metadata": {},
     "output_type": "display_data"
    }
   ],
   "source": [
    "plt.scatter(df['заболевшие'], df['выздоровевшие'])\n",
    "plt.xlabel('заболевшие')\n",
    "plt.ylabel('выздоровевшие')\n",
    "plt.grid()\n",
    "plt.show()"
   ]
  },
  {
   "attachments": {},
   "cell_type": "markdown",
   "metadata": {},
   "source": [
    "Плохо видно, посмотрим в логарифмических осях"
   ]
  },
  {
   "cell_type": "code",
   "execution_count": 9,
   "metadata": {},
   "outputs": [
    {
     "data": {
      "image/png": "[encoded data removed]",
      "text/plain": [
       "<Figure size 640x480 with 1 Axes>"
      ]
     },
     "metadata": {},
     "output_type": "display_data"
    }
   ],
   "source": [
    "plt.scatter(np.log(df['заболевшие']), np.log(df['выздоровевшие']))\n",
    "plt.xlabel('заболевшие', fontsize=10)\n",
    "plt.ylabel('выздоровевшие', fontsize=10)\n",
    "plt.grid()\n",
    "plt.show()"
   ]
  },
  {
   "attachments": {},
   "cell_type": "markdown",
   "metadata": {},
   "source": [
    "Так-то лучше. Видно, что некоторая корреляция всё-таки есть"
   ]
  },
  {
   "attachments": {},
   "cell_type": "markdown",
   "metadata": {},
   "source": [
    "Будем использовать критерий основанный на корреляции Кендалла.\n",
    "\n",
    "$$H_0:\\ \\ \\tau_{X_1X_2} = 0 (выборки\\ не\\ коррелируют)$$\n",
    "\n",
    "$$H_1: \\ \\ \\tau_{X_1X_2} >< 0$$\n",
    "\n",
    "Статистика: $$T(X_1^n, X_2^n) = \\hat{\\tau}_{X_1X_2} = 1 - \\frac{4}{n(n-1)} \\sum\\limits_{i=1}^{n-1} \\sum\\limits_{j=1}^n [[X_{1i} < X_{1j}] \\neq [X_{2i} < X_{2j}]]$$\n",
    "\n",
    "Нулевое распределение аппроксимируется нормальным и:\n",
    "\n",
    "$$\\mathbb{E}\\hat{\\tau}_{X_1X_2} = 0$$\n",
    "$$\\mathbb{D}\\hat{\\tau}_{X_1X_2} = \\frac{2(n+5)}{9n(n-1)}$$\n"
   ]
  },
  {
   "attachments": {},
   "cell_type": "markdown",
   "metadata": {},
   "source": [
    "Посчитаем статистику"
   ]
  },
  {
   "cell_type": "code",
   "execution_count": 15,
   "metadata": {},
   "outputs": [
    {
     "data": {
      "text/plain": [
       "0.27384615384615385"
      ]
     },
     "execution_count": 15,
     "metadata": {},
     "output_type": "execute_result"
    }
   ],
   "source": [
    "d = 0\n",
    "n = len(df)\n",
    "for i in range(n-1):\n",
    "    for j in range(i+1, n):\n",
    "        if (df['заболевшие'][i] < df['заболевшие'][j]) != (df['выздоровевшие'][i] < df['выздоровевшие'][j]):\n",
    "            d += 1\n",
    "tau = 1 - 4 / n / (n-1) * d\n",
    "tau"
   ]
  },
  {
   "attachments": {},
   "cell_type": "markdown",
   "metadata": {},
   "source": [
    "Чтобы нам сравнить статистику с квантилем нормального распределения, нужно поделить на корень из дисперсии нулевого распределения"
   ]
  },
  {
   "cell_type": "code",
   "execution_count": 16,
   "metadata": {},
   "outputs": [
    {
     "data": {
      "text/plain": [
       "0.10294799948658837"
      ]
     },
     "execution_count": 16,
     "metadata": {},
     "output_type": "execute_result"
    }
   ],
   "source": [
    "var = np.sqrt((2 * (n + 5))/(9*n*(n-1)))\n",
    "var"
   ]
  },
  {
   "cell_type": "code",
   "execution_count": 17,
   "metadata": {},
   "outputs": [
    {
     "data": {
      "text/plain": [
       "2.6600434706050735"
      ]
     },
     "execution_count": 17,
     "metadata": {},
     "output_type": "execute_result"
    }
   ],
   "source": [
    "tau_norm =  tau / var\n",
    "tau_norm"
   ]
  },
  {
   "attachments": {},
   "cell_type": "markdown",
   "metadata": {},
   "source": [
    "Правило принятия решения: Нулевая гипотеза отвергается, если $\\frac{\\tau}{\\sqrt{\\frac{2(n+5)}{9n(n-1)}}} \\geq \\Phi_{1-\\alpha/2}$. \n",
    "\n",
    "Смотрим 0.975 квантиль нормального распределения - 1.96\n",
    "\n",
    "2.66 > 1.96, значит нулевая гипотеза отвергается и корреляция есть"
   ]
  }
 ],
 "metadata": {
  "kernelspec": {
   "display_name": "main_venv",
   "language": "python",
   "name": "python3"
  },
  "language_info": {
   "codemirror_mode": {
    "name": "ipython",
    "version": 3
   },
   "file_extension": ".py",
   "mimetype": "text/x-python",
   "name": "python",
   "nbconvert_exporter": "python",
   "pygments_lexer": "ipython3",
   "version": "3.10.11"
  },
  "orig_nbformat": 4
 },
 "nbformat": 4,
 "nbformat_minor": 2
}
